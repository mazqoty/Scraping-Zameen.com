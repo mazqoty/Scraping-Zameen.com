{
 "cells": [
  {
   "cell_type": "markdown",
   "metadata": {},
   "source": [
    "# Imports"
   ]
  },
  {
   "cell_type": "code",
   "execution_count": 1,
   "metadata": {},
   "outputs": [],
   "source": [
    "from selenium import webdriver\n",
    "from selenium.webdriver.common.keys import Keys\n",
    "from selenium.webdriver.support.ui import WebDriverWait\n",
    "from selenium.webdriver.support.ui import Select\n",
    "from selenium.webdriver.support import expected_conditions as EC\n",
    "from selenium.webdriver.common.by import By\n",
    "from tqdm import tqdm\n",
    "import pandas as pd\n",
    "import csv\n",
    "import time"
   ]
  },
  {
   "cell_type": "markdown",
   "metadata": {},
   "source": [
    "# WebDriver"
   ]
  },
  {
   "cell_type": "code",
   "execution_count": 5,
   "metadata": {},
   "outputs": [
    {
     "name": "stdout",
     "output_type": "stream",
     "text": [
      "Property & Real Estate for Sale in Karachi - Zameen.com\n"
     ]
    }
   ],
   "source": [
    "driver = webdriver.Chrome(executable_path = \"C:/Drivers/chromedriver.exe\")\n",
    "driver.get(\"https://www.zameen.com/Homes/Karachi-2-1.html\")\n",
    "print(driver.title)\n",
    "driver.maximize_window()\n",
    "time.sleep(10)"
   ]
  },
  {
   "cell_type": "markdown",
   "metadata": {},
   "source": [
    "# Killing Popups or iFrames"
   ]
  },
  {
   "cell_type": "code",
   "execution_count": null,
   "metadata": {},
   "outputs": [],
   "source": [
    "#Killing iframes\n",
    "driver.switch_to.frame(\"google_ads_iframe_/31946216/Splash_660x500_0\") # first frame\n",
    "driver.find_element_by_xpath('/html/body/div[2]/img').click()\n",
    "\n",
    "#Switch back to main content\n",
    "driver.switch_to.default_content()\n",
    "driver.find_element_by_xpath('//*[@id=\"body-wrapper\"]/div[2]/div/div/div[2]/button[2]').click()\n",
    "\n",
    "#Killing iframes again\n",
    "driver.switch_to.frame(\"google_ads_iframe_/31946216/HStrip_NS_0\") # 2nd frame\n",
    "driver.find_element_by_xpath('/html/body/div[2]/img').click()\n",
    "\n",
    "#Switch back to main content\n",
    "driver.switch_to.default_content()"
   ]
  },
  {
   "cell_type": "markdown",
   "metadata": {},
   "source": [
    "# Extracting All the Links on Website"
   ]
  },
  {
   "cell_type": "code",
   "execution_count": null,
   "metadata": {},
   "outputs": [],
   "source": [
    "page_listings = driver.find_elements_by_class_name('ef447dde')\n",
    "page_listings\n",
    "links = []\n",
    "\n",
    "count = 1\n",
    "while count < 880:\n",
    "    \n",
    "    print(\"count: \", count)\n",
    "    driver.get(\"https://www.zameen.com/Homes/Karachi-2-\"+str(count)+\".html\")\n",
    "    time.sleep(4)\n",
    "    \n",
    "    for i in range(len(page_listings)):\n",
    "        #time.sleep(2)\n",
    "        print(\"i: \",i)\n",
    "        page_listings = driver.find_elements_by_class_name('ef447dde')\n",
    "        link = page_listings[i].find_elements_by_tag_name('a')[-6]\n",
    "        link = link.get_property('href')\n",
    "        links.append(link)\n",
    "    \n",
    "    count +=1\n",
    "\n",
    "\n",
    "#print(links) \n",
    "len(links)\n",
    "    \n",
    "\n"
   ]
  },
  {
   "cell_type": "markdown",
   "metadata": {},
   "source": [
    "# Cleaning Extracted Links Manually"
   ]
  },
  {
   "cell_type": "code",
   "execution_count": null,
   "metadata": {},
   "outputs": [],
   "source": [
    "# convert to links to df and write to csv and process manually for bad links\n",
    "#pd.to_csv(\"links.csv\")"
   ]
  },
  {
   "cell_type": "markdown",
   "metadata": {},
   "source": [
    "## END of program, rest below is just for reference for further processing"
   ]
  },
  {
   "cell_type": "code",
   "execution_count": 1,
   "metadata": {},
   "outputs": [],
   "source": [
    "#------------------------------END---------------------------------#"
   ]
  },
  {
   "cell_type": "markdown",
   "metadata": {},
   "source": [
    "# Importing Back, Converting DataFrame to List and then String for iteration"
   ]
  },
  {
   "cell_type": "code",
   "execution_count": null,
   "metadata": {},
   "outputs": [],
   "source": [
    "# Now again Import back and convert df to list and then string\n",
    "import pandas as pd\n",
    "import csv\n",
    "all_data_khi_3672 = []\n",
    "df = pd.read_csv('links.csv', index_col=[0])\n",
    "links = df.values.tolist()\n",
    "count = 3672\n",
    "while count < len(links):\n",
    "\n",
    "#for i in range(len(links[2374:])):\n",
    "    new_link = str(links[count][-1])\n",
    "    driver.get(new_link)\n",
    "    time.sleep(4)\n",
    "\n",
    "    title = driver.find_element_by_xpath('//*[@id=\"body-wrapper\"]/main/div[2]/div/div[1]/h1').text\n",
    "    type_of_property = driver.find_element_by_xpath('//*[@id=\"body-wrapper\"]/main/div[4]/div[1]/div[4]/div/div[2]/ul/li[1]/span[2]').text\n",
    "    area_covered = driver.find_element_by_xpath('//*[@id=\"body-wrapper\"]/main/div[4]/div[1]/div[4]/div/div[2]/ul/li[5]/span[2]/span').text\n",
    "    purpose = driver.find_element_by_xpath('//*[@id=\"body-wrapper\"]/main/div[4]/div[1]/div[4]/div/div[2]/ul/li[6]/span[2]').text\n",
    "    location1 = driver.find_element_by_xpath('//*[@id=\"body-wrapper\"]/main/div[4]/div[1]/div[4]/div/div[2]/ul/li[3]/span[2]').text\n",
    "    location2 = driver.find_element_by_xpath('//*[@id=\"body-wrapper\"]/main/div[2]/div/div[1]/div').text\n",
    "    bedrooms = driver.find_element_by_xpath('//*[@id=\"body-wrapper\"]/main/div[4]/div[1]/div[4]/div/div[2]/ul/li[7]/span[2]').text\n",
    "    bathrooms = driver.find_element_by_xpath('//*[@id=\"body-wrapper\"]/main/div[4]/div[1]/div[4]/div/div[2]/ul/li[4]/span[2]').text\n",
    "    price = driver.find_element_by_xpath('//*[@id=\"body-wrapper\"]/main/div[4]/div[1]/div[4]/div/div[2]/ul/li[2]/span[2]/div').text\n",
    "\n",
    "\n",
    "    temp = {'Title': title,\n",
    "            'Type': type_of_property,\n",
    "            'Area Covered': area_covered,\n",
    "            'Purpose': purpose,\n",
    "            'Location1':location1,\n",
    "            'Location2':location2,\n",
    "            'Bedrooms':bedrooms,\n",
    "            'Bathrooms':bathrooms,\n",
    "            'Price': price,\n",
    "             'href': new_link\n",
    "            }\n",
    "    all_data_khi_3672.append(temp)\n",
    "    print(\"Progress: \", count)\n",
    "    count +=1\n",
    "    \n",
    "    \n",
    "#print(all_data_khi)"
   ]
  },
  {
   "cell_type": "code",
   "execution_count": null,
   "metadata": {},
   "outputs": [],
   "source": [
    "len(all_data_khi_2374)"
   ]
  },
  {
   "cell_type": "code",
   "execution_count": null,
   "metadata": {},
   "outputs": [],
   "source": [
    "len(all_data_khi)"
   ]
  },
  {
   "cell_type": "code",
   "execution_count": null,
   "metadata": {},
   "outputs": [],
   "source": [
    "all_data_khi"
   ]
  },
  {
   "cell_type": "markdown",
   "metadata": {},
   "source": [
    "# Converting to DataFrame and Export to CSV file"
   ]
  },
  {
   "cell_type": "code",
   "execution_count": null,
   "metadata": {},
   "outputs": [],
   "source": [
    "all_data_khi\n",
    "df = pd.DataFrame(all_data_khi_2374)\n",
    "df.to_csv('all_data_khi_from_2373.csv')"
   ]
  },
  {
   "cell_type": "code",
   "execution_count": null,
   "metadata": {},
   "outputs": [],
   "source": [
    "\"\"\"\n",
    "wait = WebDriverWait(driver, 10)\n",
    "element = wait.until(EC.element_to_be_clickable((By.XPATH, '//*[@id=\"body-wrapper\"]/main/div[3]/div[2]/div[4]/div[1]/ul/li[1]/article/div[1]/a/div')))\n",
    "element.click()\n",
    "time.sleep(5)\n",
    "#driver.back()\n",
    "\n",
    "#working\n",
    "page_listings = driver.find_elements_by_class_name('ef447dde')\n",
    "page_listings\n",
    "\n",
    "for i in range(len(page_listings)):\n",
    "\n",
    "    link = page_listings[i].find_elements_by_tag_name('a')[-6]\n",
    "    link = link.get_property('href')\n",
    "    print(link)\n",
    "\n",
    "    page_listings[i].click()\n",
    "\n",
    "    driver.back()\n",
    "    time.sleep(5)\n",
    "    print(i)\n",
    "    \n",
    "#new case\n",
    "buyers = driver.find_elements_by_xpath('//div[@title = \"buyer-name\"]')\n",
    "# we need div tag & the title within the div tag needs to correspond to 'buyer-name'\n",
    "for i in range(len(buyers)):\n",
    "    print(buyers[i].text, )\n",
    "\n",
    "wait = WebDriverWait(driver, 10)\n",
    "element = wait.until(EC.element_to_be_clickable((By.XPATH, '//*[@id=\"body-wrapper\"]/main/div[4]/div[1]/div[1]/div[1]/div/div[3]')))\n",
    "element.click()\n",
    "\n",
    "listOflinks\n",
    "from tqdm import tqdm\n",
    "alldetails=[]\n",
    "for i in tqdm(listOflinks):\n",
    "    webD.get(i)\n",
    "    nameoftheproduct=webD.find_element_by_xpath('/html/body/div[1]/div[3]/div/div[2]/div/div/div[2]/div[1]/h4[2]').text\n",
    "    descriptionOfProduct=webD.find_element_by_xpath('/html/body/div[1]/div[3]/div/div[2]/div/div/div[2]/div[1]/p').text\n",
    "    priceProduct=webD.find_element_by_xpath('/html/body/div[1]/div[3]/div/div[2]/div/div/div[2]/div[1]/h4[1]').text\n",
    "    reviewOftheProduct=webD.find_element_by_xpath('/html/body/div[1]/div[3]/div/div[2]/div/div/div[2]/div[2]/p').text\n",
    "    tempJ={'nameoftheproduct':nameoftheproduct,\n",
    "      'priceProduct':priceProduct,\n",
    "      'reviewOftheProduct':reviewOftheProduct,\n",
    "      'descriptionOfProduct':descriptionOfProduct,\n",
    "      'linkofProduct':i}\n",
    "    alldetails.append(tempJ)\"\"\""
   ]
  },
  {
   "cell_type": "code",
   "execution_count": null,
   "metadata": {},
   "outputs": [],
   "source": []
  }
 ],
 "metadata": {
  "kernelspec": {
   "display_name": "Python 3",
   "language": "python",
   "name": "python3"
  },
  "language_info": {
   "codemirror_mode": {
    "name": "ipython",
    "version": 3
   },
   "file_extension": ".py",
   "mimetype": "text/x-python",
   "name": "python",
   "nbconvert_exporter": "python",
   "pygments_lexer": "ipython3",
   "version": "3.7.6"
  }
 },
 "nbformat": 4,
 "nbformat_minor": 4
}
